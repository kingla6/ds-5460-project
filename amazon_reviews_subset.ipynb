{
 "cells": [
  {
   "cell_type": "code",
   "execution_count": 1,
   "metadata": {},
   "outputs": [
    {
     "name": "stdout",
     "output_type": "stream",
     "text": [
      "/home/torrensk\r\n"
     ]
    }
   ],
   "source": [
    "!pwd"
   ]
  },
  {
   "cell_type": "code",
   "execution_count": 2,
   "metadata": {},
   "outputs": [
    {
     "name": "stdout",
     "output_type": "stream",
     "text": [
      "Number of processors:  48\n"
     ]
    }
   ],
   "source": [
    "import pandas as pd\n",
    "import os\n",
    "import re\n",
    "\n",
    "import multiprocessing as mp\n",
    "print(\"Number of processors: \", mp.cpu_count())"
   ]
  },
  {
   "cell_type": "markdown",
   "metadata": {},
   "source": [
    "## Importing, processing and cleaning all data in parallel"
   ]
  },
  {
   "cell_type": "code",
   "execution_count": 6,
   "metadata": {
    "collapsed": true
   },
   "outputs": [],
   "source": [
    "def import_file(f):\n",
    "    reviews = []\n",
    "    \n",
    "    category = re.search('amazon_reviews_us_(.+?)_v1|amazon_reviews_(.+?)_US_v1', f).group(1)\n",
    "    \n",
    "    col_list = ['product_title', 'star_rating',\n",
    "        'helpful_votes', 'total_votes', 'verified_purchase',\n",
    "        'review_headline', 'review_body']\n",
    "    df = pd.read_csv(\"./archive-6/\" + str(f), sep='\\t', error_bad_lines=False, usecols=col_list)\n",
    "    \n",
    "    df['category'] = category\n",
    "    df = df[df.filter(like='review_').notnull().all(1)]\n",
    "    df.verified_purchase = df.verified_purchase.eq('Y').mul(1)\n",
    "    print(f + \": \" + str(df.shape))\n",
    "    reviews.append(df.values.tolist())\n",
    "    return(reviews)"
   ]
  },
  {
   "cell_type": "code",
   "execution_count": 10,
   "metadata": {},
   "outputs": [
    {
     "name": "stdout",
     "output_type": "stream",
     "text": [
      "amazon_reviews_us_Digital_Video_Games_v1_00.tsv: (144720, 8)\n",
      "amazon_reviews_us_Major_Appliances_v1_00.tsv: (96832, 8)\n",
      "amazon_reviews_us_Video_v1_00.tsv: (380549, 8)\n"
     ]
    },
    {
     "name": "stderr",
     "output_type": "stream",
     "text": [
      "/accre/arch/easybuild/software/BinDist/Anaconda3/5.0.1/lib/python3.6/multiprocessing/process.py:93: DtypeWarning: Columns (7) have mixed types.Specify dtype option on import or set low_memory=False.\n",
      "  self._target(*self._args, **self._kwargs)\n"
     ]
    },
    {
     "name": "stdout",
     "output_type": "stream",
     "text": [
      "amazon_reviews_us_Baby_v1_00.tsv: (1749022, 8)\n"
     ]
    }
   ],
   "source": [
    "num_threads = mp.cpu_count()\n",
    "pool = mp.Pool(num_threads)"
   ]
  },
  {
   "cell_type": "code",
   "execution_count": 11,
   "metadata": {},
   "outputs": [],
   "source": [
    "files = os.listdir('archive-6')\n",
    "r = pool.map(import_file, files)"
   ]
  },
  {
   "cell_type": "code",
   "execution_count": 12,
   "metadata": {
    "collapsed": true
   },
   "outputs": [],
   "source": [
    "flat_list = [item for sublist in r for item in sublist]"
   ]
  },
  {
   "cell_type": "code",
   "execution_count": 13,
   "metadata": {
    "collapsed": true
   },
   "outputs": [],
   "source": [
    "flat_list_2 = [item for sublist in flat_list for item in sublist]"
   ]
  },
  {
   "cell_type": "code",
   "execution_count": 14,
   "metadata": {},
   "outputs": [
    {
     "data": {
      "text/plain": [
       "2371123"
      ]
     },
     "execution_count": 14,
     "metadata": {},
     "output_type": "execute_result"
    }
   ],
   "source": [
    "len(flat_list_2)"
   ]
  },
  {
   "cell_type": "code",
   "execution_count": 15,
   "metadata": {
    "collapsed": true
   },
   "outputs": [],
   "source": [
    "pool.close()"
   ]
  },
  {
   "cell_type": "markdown",
   "metadata": {},
   "source": [
    "## Convert to Pyspark Dataframe"
   ]
  },
  {
   "cell_type": "code",
   "execution_count": 16,
   "metadata": {
    "collapsed": true
   },
   "outputs": [],
   "source": [
    "import pyspark"
   ]
  },
  {
   "cell_type": "code",
   "execution_count": 17,
   "metadata": {},
   "outputs": [
    {
     "name": "stderr",
     "output_type": "stream",
     "text": [
      "/home/torrensk/.local/lib/python3.6/site-packages/pyspark/context.py:238: FutureWarning: Python 3.6 support is deprecated in Spark 3.2.\n",
      "  FutureWarning\n"
     ]
    }
   ],
   "source": [
    "from pyspark.sql import SparkSession\n",
    "spark = SparkSession.builder.appName('amazon_reviews').getOrCreate()"
   ]
  },
  {
   "cell_type": "code",
   "execution_count": 18,
   "metadata": {
    "collapsed": true
   },
   "outputs": [],
   "source": [
    "from pyspark.sql.types import StructField,StringType,IntegerType,StructType,FloatType\n",
    "schema = StructType(\n",
    "    [\n",
    "     StructField(name=\"product_title\", dataType=StringType()),\n",
    "     StructField(name=\"star_rating\", dataType=StringType()),\n",
    "     StructField(name=\"helpful_votes\", dataType=StringType()), \n",
    "     StructField(name=\"total_votes\", dataType=StringType()), \n",
    "     StructField(name=\"verified_purchase\", dataType=StringType()), \n",
    "     StructField(name=\"review_headline\", dataType=StringType()), \n",
    "     StructField(name=\"review_body\", dataType=StringType()), \n",
    "     StructField(name=\"category\", dataType=StringType()),    \n",
    "    ]\n",
    ")"
   ]
  },
  {
   "cell_type": "code",
   "execution_count": null,
   "metadata": {},
   "outputs": [],
   "source": [
    "parallize_reviews = spark.sparkContext.parallelize(flat_list_2)\n",
    "reviews_df = spark.createDataFrame(parallize_reviews, schema)"
   ]
  },
  {
   "cell_type": "code",
   "execution_count": 13,
   "metadata": {},
   "outputs": [
    {
     "name": "stdout",
     "output_type": "stream",
     "text": [
      "+-----------------------------------------------------------------------------------------------+-----------+-------------+-----------+-----------------+---------------+---------------------------------------------------------------------------------------------------------------------------------+----------------+\n",
      "|product_title                                                                                  |star_rating|helpful_votes|total_votes|verified_purchase|review_headline|review_body                                                                                                                      |category        |\n",
      "+-----------------------------------------------------------------------------------------------+-----------+-------------+-----------+-----------------+---------------+---------------------------------------------------------------------------------------------------------------------------------+----------------+\n",
      "|Best Hand Clothes Wringer                                                                      |5          |1            |1          |1                |Five Stars     |worked great                                                                                                                     |Major_Appliances|\n",
      "|Supco SET184 Thermal Cutoff Kit                                                                |5          |0            |0          |1                |Fast Shipping  |Part exactly what I needed.  Saved by purchasing myself.                                                                         |Major_Appliances|\n",
      "|Midea WHS-160RB1 Compact Single Reversible Door Refrigerator and Freezer, 4.4 Cubic Feet, Black|5          |1            |1          |1                |Five Stars     |Love my refrigerator! ! Keeps everything  cold..will recommend!                                                                  |Major_Appliances|\n",
      "|Avalon Bay Portable Ice Maker                                                                  |5          |0            |0          |1                |Five Stars     |No more running to the store for ice!  Works perfectly.                                                                          |Major_Appliances|\n",
      "|Danby  Freestanding Wine Cooler                                                                |1          |0            |0          |1                |Piece of Junk  |It would not cool below 55 degrees and has now stopped working all together.  I would NOT recommend this piece of junk to anyone.|Major_Appliances|\n",
      "+-----------------------------------------------------------------------------------------------+-----------+-------------+-----------+-----------------+---------------+---------------------------------------------------------------------------------------------------------------------------------+----------------+\n",
      "only showing top 5 rows\n",
      "\n"
     ]
    }
   ],
   "source": [
    "reviews_df.show(5, truncate = True)"
   ]
  },
  {
   "cell_type": "markdown",
   "metadata": {},
   "source": [
    "## Modeling"
   ]
  },
  {
   "cell_type": "code",
   "execution_count": 15,
   "metadata": {
    "collapsed": true
   },
   "outputs": [],
   "source": [
    "reviews_df = reviews_df.withColumn(\"star_rating\",reviews_df[\"star_rating\"].cast(IntegerType()))\n",
    "reviews_df = reviews_df.withColumn(\"helpful_votes\",reviews_df[\"helpful_votes\"].cast(IntegerType()))\n",
    "reviews_df = reviews_df.withColumn(\"total_votes\",reviews_df[\"total_votes\"].cast(IntegerType()))\n",
    "reviews_df = reviews_df.withColumn(\"verified_purchase\",reviews_df[\"verified_purchase\"].cast(IntegerType()))"
   ]
  },
  {
   "cell_type": "code",
   "execution_count": 16,
   "metadata": {
    "collapsed": true
   },
   "outputs": [],
   "source": [
    "from pyspark.ml import Pipeline\n",
    "from pyspark.ml.feature import Tokenizer, StopWordsRemover, Word2Vec, StringIndexer, VectorAssembler, Normalizer\n",
    "from pyspark.ml.classification import LogisticRegression, DecisionTreeClassifier, RandomForestClassifier\n",
    "\n",
    "tokenizer_pt = Tokenizer(inputCol='product_title', outputCol='pt_token')\n",
    "tokenizer_rh = Tokenizer(inputCol='review_headline', outputCol='rh_token')\n",
    "tokenizer_rb = Tokenizer(inputCol='review_body', outputCol='rb_token')\n",
    "tokenizer_cat = Tokenizer(inputCol='category', outputCol='cat_token')\n",
    "remover_pt = StopWordsRemover(inputCol='pt_token', outputCol='pt_stop')\n",
    "remover_rh = StopWordsRemover(inputCol='rh_token', outputCol='rh_stop')\n",
    "remover_rb = StopWordsRemover(inputCol='rb_token', outputCol='rb_stop')\n",
    "w2v_pt = Word2Vec(vectorSize=3, minCount=0, inputCol=\"pt_stop\", outputCol=\"pt_vec\")\n",
    "w2v_rh = Word2Vec(vectorSize=3, minCount=0, inputCol=\"rh_stop\", outputCol=\"rh_vec\")\n",
    "w2v_rb = Word2Vec(vectorSize=5, minCount=0, inputCol=\"rb_stop\", outputCol=\"rb_vec\")\n",
    "w2v_cat = Word2Vec(vectorSize=1, minCount=0, inputCol=\"cat_token\", outputCol=\"cat_vec\")\n",
    "# labeler = StringIndexer(inputCol='star_rating',outputCol='label', stringOrderType='alphabetAsc')\n",
    "assembler = VectorAssembler(inputCols=['helpful_votes', 'total_votes', 'verified_purchase', 'pt_vec', 'rh_vec', 'rb_vec', 'cat_vec'], outputCol='features')\n",
    "normalizer = Normalizer(inputCol='features', outputCol='norm_features')\n",
    "\n",
    "\n",
    "lr = LogisticRegression(featuresCol='norm_features', labelCol='star_rating')\n",
    "dtc = DecisionTreeClassifier(featuresCol='norm_features', labelCol='star_rating')\n",
    "rfc = RandomForestClassifier(featuresCol='norm_features',labelCol='star_rating')\n",
    "\n",
    "# build your pipeline\n",
    "pipeline = Pipeline(stages=[tokenizer_pt, tokenizer_rh, tokenizer_rb, tokenizer_cat,\n",
    "                            remover_pt, remover_rh, remover_rb,\n",
    "                            w2v_pt, w2v_rh, w2v_rb, w2v_cat\n",
    "                            #,labeler\n",
    "                            , assembler, normalizer])#.fit(reviews_df)"
   ]
  },
  {
   "cell_type": "code",
   "execution_count": 17,
   "metadata": {
    "collapsed": true
   },
   "outputs": [],
   "source": [
    "# run your pipeline\n",
    "final_data = pipeline.fit(reviews_df).transform(reviews_df).select('norm_features', 'star_rating')"
   ]
  },
  {
   "cell_type": "code",
   "execution_count": 18,
   "metadata": {
    "collapsed": true
   },
   "outputs": [],
   "source": [
    "# split your training set into 0.7/0.3 (train/test)\n",
    "train_data, test_data = final_data.randomSplit([0.7,0.3])"
   ]
  },
  {
   "cell_type": "code",
   "execution_count": 19,
   "metadata": {
    "collapsed": true
   },
   "outputs": [],
   "source": [
    "# Train the models (its three models, so it might take some time)\n",
    "lr_model = lr.fit(train_data)\n",
    "dtc_model = dtc.fit(train_data)\n",
    "rfc_model = rfc.fit(train_data)"
   ]
  },
  {
   "cell_type": "code",
   "execution_count": 20,
   "metadata": {
    "collapsed": true
   },
   "outputs": [],
   "source": [
    "lr_predictions = lr_model.transform(test_data)\n",
    "dtc_predictions = dtc_model.transform(test_data)\n",
    "rfc_predictions = rfc_model.transform(test_data)"
   ]
  },
  {
   "cell_type": "code",
   "execution_count": 21,
   "metadata": {
    "collapsed": true
   },
   "outputs": [],
   "source": [
    "from pyspark.ml.evaluation import MulticlassClassificationEvaluator\n",
    "# Select (prediction, true label) and compute test error\n",
    "acc_evaluator = MulticlassClassificationEvaluator(labelCol=\"star_rating\", predictionCol=\"prediction\", metricName=\"accuracy\")\n",
    "lr_acc = acc_evaluator.evaluate(lr_predictions)\n",
    "dtc_acc = acc_evaluator.evaluate(dtc_predictions)\n",
    "rfc_acc = acc_evaluator.evaluate(rfc_predictions)"
   ]
  },
  {
   "cell_type": "code",
   "execution_count": 22,
   "metadata": {},
   "outputs": [
    {
     "name": "stdout",
     "output_type": "stream",
     "text": [
      "Here are the results!\n",
      "--------------------------------------------------------------------------------\n",
      "A logistic regression classifier had an accuracy of: 63.27%\n",
      "--------------------------------------------------------------------------------\n",
      "A single decision tree had an accuracy of: 63.00%\n",
      "--------------------------------------------------------------------------------\n",
      "A random forest ensemble had an accuracy of: 64.27%\n"
     ]
    }
   ],
   "source": [
    "print(\"Here are the results!\")\n",
    "print('-'*80)\n",
    "print('A logistic regression classifier had an accuracy of: {0:2.2f}%'.format(lr_acc*100))\n",
    "print('-'*80)\n",
    "print('A single decision tree had an accuracy of: {0:2.2f}%'.format(dtc_acc*100))\n",
    "print('-'*80)\n",
    "print('A random forest ensemble had an accuracy of: {0:2.2f}%'.format(rfc_acc*100))"
   ]
  }
 ],
 "metadata": {
  "kernelspec": {
   "display_name": "Python 3",
   "language": "python",
   "name": "python3"
  },
  "language_info": {
   "codemirror_mode": {
    "name": "ipython",
    "version": 3
   },
   "file_extension": ".py",
   "mimetype": "text/x-python",
   "name": "python",
   "nbconvert_exporter": "python",
   "pygments_lexer": "ipython3",
   "version": "3.6.3"
  }
 },
 "nbformat": 4,
 "nbformat_minor": 2
}
