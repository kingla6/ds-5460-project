{
 "cells": [
  {
   "cell_type": "code",
   "execution_count": 1,
   "id": "e10266d8",
   "metadata": {},
   "outputs": [],
   "source": [
    "import pandas as pd\n",
    "import os\n",
    "import re\n",
    "import multiprocess as mp"
   ]
  },
  {
   "cell_type": "code",
   "execution_count": 2,
   "id": "4b852d50",
   "metadata": {},
   "outputs": [],
   "source": [
    "def import_file(f):\n",
    "    \n",
    "    reviews = pd.DataFrame(columns=['product_title', 'star_rating',\n",
    "        'helpful_votes', 'total_votes', 'verified_purchase',\n",
    "        'review_headline', 'review_body', 'category'])\n",
    "    \n",
    "    category = re.search('amazon_reviews_us_(.+?)_v1|amazon_reviews_(.+?)_US_v1', f).group(1)\n",
    "    \n",
    "    col_list = ['product_title', 'star_rating',\n",
    "        'helpful_votes', 'total_votes', 'verified_purchase',\n",
    "        'review_headline', 'review_body']\n",
    "    df = pd.read_csv(\"./archive-6/\" + str(f), sep='\\t', error_bad_lines=False, usecols=col_list)\n",
    "    \n",
    "    df['category'] = category\n",
    "    df = df[df.filter(like='review_').notna().all(1)]\n",
    "    df.verified_purchase = df.verified_purchase.eq('Y').mul(1)\n",
    "\n",
    "    reviews = reviews.append(df)\n",
    "    return(reviews)"
   ]
  },
  {
   "cell_type": "code",
   "execution_count": 3,
   "id": "e22acb16",
   "metadata": {},
   "outputs": [
    {
     "name": "stdout",
     "output_type": "stream",
     "text": [
      "(96832, 8)\n",
      "(144720, 8)\n",
      "(380549, 8)\n"
     ]
    },
    {
     "name": "stderr",
     "output_type": "stream",
     "text": [
      "/Users/sarahtorrence/opt/anaconda3/lib/python3.8/site-packages/multiprocess/process.py:108: DtypeWarning: Columns (7) have mixed types.Specify dtype option on import or set low_memory=False.\n",
      "  self._target(*self._args, **self._kwargs)\n"
     ]
    },
    {
     "name": "stdout",
     "output_type": "stream",
     "text": [
      "(1749022, 8)\n"
     ]
    }
   ],
   "source": [
    "num_threads = mp.cpu_count()\n",
    "pool = mp.Pool(num_threads)"
   ]
  },
  {
   "cell_type": "code",
   "execution_count": 4,
   "id": "86900cc8",
   "metadata": {},
   "outputs": [],
   "source": [
    "files = os.listdir('archive-6')\n",
    "r = pool.map(import_file, files)"
   ]
  },
  {
   "cell_type": "code",
   "execution_count": 5,
   "id": "35ec5aea",
   "metadata": {},
   "outputs": [],
   "source": [
    "reviews = pd.concat(r)"
   ]
  },
  {
   "cell_type": "code",
   "execution_count": 6,
   "id": "10ef2306",
   "metadata": {},
   "outputs": [
    {
     "data": {
      "text/plain": [
       "(2371123, 8)"
      ]
     },
     "execution_count": 6,
     "metadata": {},
     "output_type": "execute_result"
    }
   ],
   "source": [
    "reviews.shape"
   ]
  },
  {
   "cell_type": "code",
   "execution_count": 7,
   "id": "18a9c5b5",
   "metadata": {},
   "outputs": [],
   "source": [
    "pool.close()"
   ]
  }
 ],
 "metadata": {
  "kernelspec": {
   "display_name": "Python 3",
   "language": "python",
   "name": "python3"
  },
  "language_info": {
   "codemirror_mode": {
    "name": "ipython",
    "version": 3
   },
   "file_extension": ".py",
   "mimetype": "text/x-python",
   "name": "python",
   "nbconvert_exporter": "python",
   "pygments_lexer": "ipython3",
   "version": "3.8.8"
  }
 },
 "nbformat": 4,
 "nbformat_minor": 5
}
